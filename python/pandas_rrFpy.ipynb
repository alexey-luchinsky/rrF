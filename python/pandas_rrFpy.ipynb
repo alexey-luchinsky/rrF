{
 "cells": [
  {
   "cell_type": "code",
   "execution_count": null,
   "metadata": {},
   "outputs": [],
   "source": [
    "from  rrfpy.rrfpy_pandas import *\n",
    "import matplotlib.pyplot as plt\n",
    "import numpy as np\n",
    "import plotly.express as ps\n",
    "import plotly.graph_objects as go\n",
    "from IPython.display import display, Latex"
   ]
  },
  {
   "cell_type": "markdown",
   "metadata": {},
   "source": [
    "## $\\tau$ Decays"
   ]
  },
  {
   "cell_type": "markdown",
   "metadata": {},
   "source": [
    "We start with considering very simple decay: $\\tau^- \\to e^- \\bar{\\nu}_e \\nu_\\tau$\n",
    "\n",
    "The file we are analyzinf was created in the **build/** directory using the command\n",
    "\n",
    "    ./simpleEvtGenRO.exe tau- ../src/tau_enu.dec  100000\n",
    "    cp evtOutput.root evtOutput_tau.root\n",
    "    \n",
    "Let is download it first"
   ]
  },
  {
   "cell_type": "code",
   "execution_count": null,
   "metadata": {},
   "outputs": [],
   "source": [
    "rrF = rrFpy_pandas(\"../build/evtOutput_tau.root\")"
   ]
  },
  {
   "cell_type": "markdown",
   "metadata": {},
   "source": [
    "We can see that 100000 events were loaded"
   ]
  },
  {
   "cell_type": "code",
   "execution_count": null,
   "metadata": {},
   "outputs": [],
   "source": [
    "rrF.size()"
   ]
  },
  {
   "cell_type": "markdown",
   "metadata": {},
   "source": [
    "and all these events correspond to shown above $\\tau$-lepton decay"
   ]
  },
  {
   "cell_type": "code",
   "execution_count": null,
   "metadata": {},
   "outputs": [],
   "source": [
    "rrF[\"reac\"].value_counts()"
   ]
  },
  {
   "cell_type": "markdown",
   "metadata": {},
   "source": [
    "The distributions over various kinematical vars can be extracted using **[\"var\"]** notation. Here is the energy of the first produced particle (i.e. electron), for example"
   ]
  },
  {
   "cell_type": "code",
   "execution_count": null,
   "metadata": {},
   "outputs": [],
   "source": [
    "distE = rrF[\"E_1\"]\n",
    "distE"
   ]
  },
  {
   "cell_type": "markdown",
   "metadata": {},
   "source": [
    "The result is usual **pandas.Series** object, so you can do whatever you want with is.\n",
    "\n",
    "Calculate the mean:"
   ]
  },
  {
   "cell_type": "code",
   "execution_count": null,
   "metadata": {},
   "outputs": [],
   "source": [
    "distE.mean()"
   ]
  },
  {
   "cell_type": "markdown",
   "metadata": {},
   "source": [
    "or even plot the histogram"
   ]
  },
  {
   "cell_type": "code",
   "execution_count": null,
   "metadata": {},
   "outputs": [],
   "source": [
    "distE.hist(bins=50, density = True)\n",
    "mtau = rrF[\"m_0\"].mean()\n",
    "e = np.linspace(0, mtau/2, 100)\n",
    "plt.plot(e, 16/mtau**3*(3-4*e/mtau)*e**2, 'r', linewidth = 5);\n",
    "plt.xlabel(r\"$E_e,\\,\\mathrm{GeV}$\")\n",
    "plt.ylabel(r\"$d\\mathrm{Br}/dE_e,\\,\\mathrm{GeV}^{-1}$\")\n",
    "plt.title(rrF[\"reac\"].iloc[0])\n",
    "plt.show()"
   ]
  },
  {
   "cell_type": "markdown",
   "metadata": {},
   "source": [
    "Note that the result prefectly agrees with the textbook variant\n",
    "$$\\frac{d\\mathrm{Br}}{dE}= \\frac{16}{m_\\tau^3}\\left[3-\\frac{4E}{m_\\tau}\\right]E^2,$$\n",
    "that is shown with red line in the above plot\n",
    "\n",
    "All other distributions can also be easily constricted. Here, for example, are distributions over different square masses"
   ]
  },
  {
   "cell_type": "code",
   "execution_count": null,
   "metadata": {},
   "outputs": [],
   "source": [
    "rrF[[\"m2_12\", \"m2_13\", \"m2_23\"]].plot.hist(bins=50, histtype = 'step', density = True)\n",
    "plt.xlabel(r\"$m^2,\\,\\mathrm{GeV^2}$\")\n",
    "plt.ylabel(r\"$d\\mathrm{Br}/dm^2,\\,\\mathrm{GeV}^{-2}$\")\n",
    "plt.title(rrF[\"reac\"].iloc[0])\n",
    "plt.show()\n",
    "plt.show()"
   ]
  },
  {
   "cell_type": "markdown",
   "metadata": {},
   "source": [
    "As expected, the relation\n",
    "$$s+t+u = \\sum_i m_i^2$$\n",
    "does hold for all events"
   ]
  },
  {
   "cell_type": "code",
   "execution_count": null,
   "metadata": {},
   "outputs": [],
   "source": [
    "np.sqrt(rrF[\"m2_12\"]+rrF[\"m2_13\"] + rrF[\"m2_23\"])"
   ]
  },
  {
   "cell_type": "markdown",
   "metadata": {},
   "source": [
    "Any cuts can easily be imposed to the data set"
   ]
  },
  {
   "cell_type": "code",
   "execution_count": null,
   "metadata": {},
   "outputs": [],
   "source": [
    "rrFcut = rrF.cut(\"E_1>0.4\")\n",
    "print(\"%d events survived after the cut (%d %%)\" % (rrFcut.size(), 100*rrFcut.size()/rrF.size()) )\n",
    "rrFcut[[\"m2_12\", \"m2_13\", \"m2_23\"]].plot.hist(bins=50, alpha = 0.5, density = True)\n",
    "plt.show()"
   ]
  },
  {
   "cell_type": "markdown",
   "metadata": {},
   "source": [
    "## $B_c$ Decays"
   ]
  },
  {
   "cell_type": "markdown",
   "metadata": {},
   "source": [
    "Let us try the package on more serious example: $B_c^+$ meson decays.\n",
    "\n",
    "The file we will be using here is created in **../build/** directory by the commands\n",
    "\n",
    "    ./simpleEvtGenRO.exe B_c+ ../src/Bc.dec  100000\n",
    "    cp evtOutput.root evtOutput_Bc.root\n",
    "    \n",
    "As you can see from the decay file\n",
    "\n",
    "    noPhotos\n",
    "    Decay B_c+\n",
    "    1. J/psi pi+ pi+ pi- BC_VHAD 1;\n",
    "    1. J/psi pi+ pi+ pi- pi- pi+ BC_VHAD 1;\n",
    "    1. J/psi K+ K- pi+ BC_VHAD 1;\n",
    "    1. J/psi K+ pi+ pi- BC_VHAD 1;\n",
    "    Enddecay\n",
    "    End\n",
    "    \n",
    "the whole bunch of reactions is stored in the resulting ROOT"
   ]
  },
  {
   "cell_type": "markdown",
   "metadata": {},
   "source": [
    "Let us first load it"
   ]
  },
  {
   "cell_type": "code",
   "execution_count": null,
   "metadata": {},
   "outputs": [],
   "source": [
    "rrF = rrFpy_pandas()\n",
    "rrF.load_ROOT(\"../build/evtOutput_Bc.root\")"
   ]
  },
  {
   "cell_type": "markdown",
   "metadata": {},
   "source": [
    "Here is the list of all reactions (with number of decays for each of them)"
   ]
  },
  {
   "cell_type": "code",
   "execution_count": null,
   "metadata": {},
   "outputs": [],
   "source": [
    "reacs = rrF[\"reac\"].value_counts()\n",
    "print(reacs)"
   ]
  },
  {
   "cell_type": "markdown",
   "metadata": {},
   "source": [
    "This data can be represented in nice graphical way"
   ]
  },
  {
   "cell_type": "code",
   "execution_count": null,
   "metadata": {},
   "outputs": [],
   "source": [
    "reacs.plot.barh()\n",
    "plt.xlabel(\"# of records\")\n",
    "plt.ylabel(\"reaction\")\n",
    "plt.show()\n"
   ]
  },
  {
   "cell_type": "markdown",
   "metadata": {},
   "source": [
    "First we will discuss the $B_c^+ \\to J/\\psi \\pi^+ \\pi^+ \\pi^-$ decay. To select the corresponding records we can use the **cut()** method (note that PDG codes for $\\pi^+$ and $\\pi^-$ particles are 211 and -211 respectively)"
   ]
  },
  {
   "cell_type": "code",
   "execution_count": null,
   "metadata": {},
   "outputs": [],
   "source": [
    "rrf_3pi = rrF.cut([\"ntr=5\", \"id_2=211\",\"id_3=211\",\"id_4=-211\"])\n",
    "rrf_3pi[\"reac\"].value_counts()"
   ]
  },
  {
   "cell_type": "markdown",
   "metadata": {},
   "source": [
    "As you can see, only the reaction we are interested in is left.\n",
    "\n",
    "The same result can be obtained with **filter** command, that accepts a boolean list as an argument (see the similar mask functionality of the **pandas.DataFrame** objects)"
   ]
  },
  {
   "cell_type": "code",
   "execution_count": null,
   "metadata": {},
   "outputs": [],
   "source": [
    "rrf_3pi  = rrF.filter( (rrF[\"ntr\"]==5) & (rrF[\"name_2\"] == \"pi+\") & (rrF[\"name_3\"]==\"pi+\") & (rrF[\"name_4\"]==\"pi-\") )\n",
    "rrf_3pi[\"reac\"].value_counts()"
   ]
  },
  {
   "cell_type": "markdown",
   "metadata": {},
   "source": [
    "Sometimes the last notation is not very convenient, but it is much more powerfull then the **cut()** method\n",
    "\n",
    "In any case we can extract from the resulting object the distribution over any kinematic variable using [] notation"
   ]
  },
  {
   "cell_type": "code",
   "execution_count": null,
   "metadata": {},
   "outputs": [],
   "source": [
    "rrf_3pi[\"m_23\"]"
   ]
  },
  {
   "cell_type": "markdown",
   "metadata": {},
   "source": [
    "The result is **pandas.Series** object, so you can do whatever you want with it.\n",
    "\n",
    "Calculate the mean, for example"
   ]
  },
  {
   "cell_type": "code",
   "execution_count": null,
   "metadata": {},
   "outputs": [],
   "source": [
    "rrf_3pi[\"m_23\"].mean()"
   ]
  },
  {
   "cell_type": "markdown",
   "metadata": {},
   "source": [
    "Or plot it"
   ]
  },
  {
   "cell_type": "code",
   "execution_count": null,
   "metadata": {},
   "outputs": [],
   "source": [
    "rrf_3pi[\"m2_23\"].hist(bins=30)\n",
    "plt.xlabel(r\"$m_{23}$\")\n",
    "plt.show()"
   ]
  },
  {
   "cell_type": "markdown",
   "metadata": {},
   "source": [
    "You can use the whole python functionality, so very nice plots can be easily created in small time"
   ]
  },
  {
   "cell_type": "code",
   "execution_count": null,
   "metadata": {},
   "outputs": [],
   "source": [
    "fig, ax = plt.subplots(nrows = 1, ncols = 1)\n",
    "rrf_3pi = rrF.cut([\"ntr=5\",\"id_2=211\"])\n",
    "variables = {'m_23':r'$\\pi^+\\pi^+$', 'm_24':r'$\\pi^+\\pi^-$', 'm_34':r'$\\pi^+\\pi^-$'}\n",
    "for var, name in variables.items():\n",
    "    rrf_3pi[var].hist(label=name, alpha=0.5, bins=50)\n",
    "fig.suptitle(rrf_3pi[\"reac\"].drop_duplicates().iloc[0])\n",
    "ax.axvline(x=0.77, linestyle = '--', color = 'r')\n",
    "plt.legend()\n",
    "plt.show()"
   ]
  },
  {
   "cell_type": "markdown",
   "metadata": {},
   "source": [
    "In the above plot you can easily see that distributions over two $\\pi^+\\pi^-$ masses are the same (two $\\pi^+$ mesons are identical) and show the peak at $m_{\\pi\\pi}\\sim m_\\rho \\approx 770$ MeV (is shown with the red dashed line).\n",
    "\n",
    "In the case of $m_{\\pi^+\\pi^+}$ distribution such a peak is absent."
   ]
  },
  {
   "cell_type": "markdown",
   "metadata": {},
   "source": [
    "The plot can be made more beautiful and interactinve with the **pyplot** package. Now you can use your mouse cursor to see the exact position of the peak (pay attention to the hover text)"
   ]
  },
  {
   "cell_type": "code",
   "execution_count": null,
   "metadata": {},
   "outputs": [],
   "source": [
    "rrf_3pi = rrF.cut([\"ntr=5\",\"id_2=211\"])\n",
    "data = rrf_3pi\n",
    "variables = {'m_23':r'$\\pi^+\\pi^+$', 'm_24':r'$\\pi^+\\pi^-$', 'm_34':r'$\\pi^+\\pi^-$'}\n",
    "fig = go.Figure()\n",
    "for var, name in variables.items():\n",
    "    fig.add_trace(go.Histogram(x=data[var], name = name, histnorm='probability density'))\n",
    "fig.update_layout(barmode='overlay',\n",
    "                  xaxis_title=r\"$m_{\\pi\\pi}, \\mathrm{GeV}$\",\n",
    "                yaxis_title=\"$d\\mathrm{Br}/dm_{\\pi\\pi}, \\mathrm{GeV}^{-1}$\",\n",
    "                 title = data[\"reac\"].drop_duplicates().iloc[0])\n",
    "fig.update_traces(opacity=0.5)\n",
    "fig.show()"
   ]
  },
  {
   "cell_type": "markdown",
   "metadata": {},
   "source": [
    "With minimal modufications we draw the similar distributions for other reactions"
   ]
  },
  {
   "cell_type": "code",
   "execution_count": null,
   "metadata": {},
   "outputs": [],
   "source": [
    "rrf_Kpipi = rrF.cut([\"ntr=5\",\"id_2=321\",\"id_3=211\"])\n",
    "variables = {'m_23':r'$K^+\\pi^+$', 'm_24':r'$K^+\\pi^-$', 'm_34':r'$\\pi^+\\pi^-$'}\n",
    "fig = go.Figure()\n",
    "for var, name in variables.items():\n",
    "    fig.add_trace(go.Histogram(x=rrf_Kpipi[var], name = name, histnorm='probability density'))\n",
    "fig.update_layout(barmode='overlay',\n",
    "                  xaxis_title=r\"$m_{\\pi\\pi}, \\mathrm{GeV}$\",\n",
    "                yaxis_title=\"$d\\mathrm{Br}/dm_{\\pi\\pi}, \\mathrm{GeV}^{-1}$\",\n",
    "                 title = rrf_Kpipi[\"reac\"].drop_duplicates().iloc[0])\n",
    "fig.update_traces(opacity=0.5)\n",
    "fig.show()"
   ]
  },
  {
   "cell_type": "code",
   "execution_count": null,
   "metadata": {},
   "outputs": [],
   "source": [
    "rrf_KKpi = rrF.cut([\"ntr=5\",\"id_2=321\",\"id_3=-321\"])\n",
    "variables = {'m_23':r'$K^+K^-$', 'm_24':r'$K^+\\pi^+$', 'm_34':r'$K^-\\pi^+$'}\n",
    "fig = go.Figure()\n",
    "for var, name in variables.items():\n",
    "    fig.add_trace(go.Histogram(x=rrf_KKpi[var], name = name, histnorm='probability density'))\n",
    "fig.update_layout(barmode='overlay',\n",
    "                  xaxis_title=r\"$m_{\\pi\\pi}, \\mathrm{GeV}$\",\n",
    "                yaxis_title=\"$d\\mathrm{Br}/dm_{\\pi\\pi}, \\mathrm{GeV}^{-1}$\",\n",
    "                 title = rrf_KKpi[\"reac\"].drop_duplicates().iloc[0])\n",
    "fig.update_traces(opacity=0.5)\n",
    "fig.show()"
   ]
  },
  {
   "cell_type": "code",
   "execution_count": null,
   "metadata": {},
   "outputs": [],
   "source": []
  }
 ],
 "metadata": {
  "kernelspec": {
   "display_name": "Python 3",
   "language": "python",
   "name": "python3"
  },
  "language_info": {
   "codemirror_mode": {
    "name": "ipython",
    "version": 3
   },
   "file_extension": ".py",
   "mimetype": "text/x-python",
   "name": "python",
   "nbconvert_exporter": "python",
   "pygments_lexer": "ipython3",
   "version": "3.8.5"
  }
 },
 "nbformat": 4,
 "nbformat_minor": 4
}
