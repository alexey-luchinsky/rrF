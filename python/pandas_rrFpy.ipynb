{
 "cells": [
  {
   "cell_type": "code",
   "execution_count": null,
   "metadata": {},
   "outputs": [],
   "source": [
    "from  rrfpy.rrfpy_pandas import *\n",
    "import matplotlib.pyplot as plt\n",
    "import numpy as np\n",
    "import plotly.express as ps\n",
    "import plotly.graph_objects as go"
   ]
  },
  {
   "cell_type": "code",
   "execution_count": null,
   "metadata": {},
   "outputs": [],
   "source": [
    "rrF = rrFpy_pandas()\n",
    "rrF.load_ROOT(\"../build/evtOutput.root\")"
   ]
  },
  {
   "cell_type": "code",
   "execution_count": null,
   "metadata": {},
   "outputs": [],
   "source": [
    "fig, ax = plt.subplots(nrows = 1, ncols = 1)\n",
    "rrf_3pi = rrF.cut([\"ntr=5\",\"id_2=211\"])\n",
    "variables = {'m_23':r'$\\pi^+\\pi^+$', 'm_24':r'$\\pi^+\\pi^-$', 'm_34':r'$\\pi^+\\pi^-$'}\n",
    "for var, name in variables.items():\n",
    "    rrf_3pi[var].hist(label=name, alpha=0.5, bins=50)\n",
    "fig.suptitle(rrf_3pi[\"reac\"].drop_duplicates().iloc[0])\n",
    "plt.legend()\n",
    "plt.show()"
   ]
  },
  {
   "cell_type": "code",
   "execution_count": null,
   "metadata": {},
   "outputs": [],
   "source": [
    "rrf_3pi = rrF.cut([\"ntr=5\",\"id_2=211\"])\n",
    "data = rrf_3pi\n",
    "variables = {'m_23':r'$\\pi^+\\pi^+$', 'm_24':r'$\\pi^+\\pi^-$', 'm_34':r'$\\pi^+\\pi^-$'}\n",
    "fig = go.Figure()\n",
    "for var, name in variables.items():\n",
    "    fig.add_trace(go.Histogram(x=data[var], name = name, histnorm='probability density'))\n",
    "fig.update_layout(barmode='overlay',\n",
    "                  xaxis_title=r\"$m_{\\pi\\pi}, \\mathrm{GeV}$\",\n",
    "                yaxis_title=\"$d\\mathrm{Br}/dm_{\\pi\\pi}, \\mathrm{GeV}^{-1}$\",\n",
    "                 title = data[\"reac\"].drop_duplicates().iloc[0])\n",
    "fig.update_traces(opacity=0.5)\n",
    "fig.show()"
   ]
  },
  {
   "cell_type": "code",
   "execution_count": null,
   "metadata": {},
   "outputs": [],
   "source": [
    "rrf_Kpipi = rrF.cut([\"ntr=5\",\"id_2=321\",\"id_3=211\"])\n",
    "variables = {'m_23':r'$K^+\\pi^+$', 'm_24':r'$K^+\\pi^-$', 'm_34':r'$\\pi^+\\pi^-$'}\n",
    "fig = go.Figure()\n",
    "for var, name in variables.items():\n",
    "    fig.add_trace(go.Histogram(x=rrf_Kpipi[var], name = name, histnorm='probability density'))\n",
    "fig.update_layout(barmode='overlay',\n",
    "                  xaxis_title=r\"$m_{\\pi\\pi}, \\mathrm{GeV}$\",\n",
    "                yaxis_title=\"$d\\mathrm{Br}/dm_{\\pi\\pi}, \\mathrm{GeV}^{-1}$\",\n",
    "                 title = rrf_Kpipi[\"reac\"].drop_duplicates().iloc[0])\n",
    "fig.update_traces(opacity=0.5)\n",
    "fig.show()"
   ]
  },
  {
   "cell_type": "code",
   "execution_count": null,
   "metadata": {},
   "outputs": [],
   "source": [
    "rrf_KKpi = rrF.cut([\"ntr=5\",\"id_2=321\",\"id_3=-321\"])\n",
    "variables = {'m_23':r'$K^+K^-$', 'm_24':r'$K^+\\pi^+$', 'm_34':r'$K^-\\pi^+$'}\n",
    "fig = go.Figure()\n",
    "for var, name in variables.items():\n",
    "    fig.add_trace(go.Histogram(x=rrf_KKpi[var], name = name, histnorm='probability density'))\n",
    "fig.update_layout(barmode='overlay',\n",
    "                  xaxis_title=r\"$m_{\\pi\\pi}, \\mathrm{GeV}$\",\n",
    "                yaxis_title=\"$d\\mathrm{Br}/dm_{\\pi\\pi}, \\mathrm{GeV}^{-1}$\",\n",
    "                 title = rrf_KKpi[\"reac\"].drop_duplicates().iloc[0])\n",
    "fig.update_traces(opacity=0.5)\n",
    "fig.show()"
   ]
  }
 ],
 "metadata": {
  "kernelspec": {
   "display_name": "Python 3",
   "language": "python",
   "name": "python3"
  },
  "language_info": {
   "codemirror_mode": {
    "name": "ipython",
    "version": 3
   },
   "file_extension": ".py",
   "mimetype": "text/x-python",
   "name": "python",
   "nbconvert_exporter": "python",
   "pygments_lexer": "ipython3",
   "version": "3.8.5"
  }
 },
 "nbformat": 4,
 "nbformat_minor": 4
}
