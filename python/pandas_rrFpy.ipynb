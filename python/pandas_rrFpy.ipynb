{
 "cells": [
  {
   "cell_type": "code",
   "execution_count": null,
   "metadata": {},
   "outputs": [],
   "source": [
    "import uproot as up\n",
    "import matplotlib.pyplot as plt\n",
    "import numpy as np\n",
    "import awkward as ak\n",
    "import re\n",
    "import pandas as pd\n",
    "from uproot3_methods.classes.TLorentzVector import TLorentzVector\n",
    "mag2 = TLorentzVector.mag2\n",
    "\n",
    "from tqdm.notebook import tqdm"
   ]
  },
  {
   "cell_type": "code",
   "execution_count": null,
   "metadata": {},
   "outputs": [],
   "source": [
    "file = up.open('../build/evtOutput.root')\n",
    "ntp = file[\"ntp\"]"
   ]
  },
  {
   "cell_type": "code",
   "execution_count": null,
   "metadata": {},
   "outputs": [],
   "source": [
    "max_nTrk = max(ntp[\"nTrk\"].array())"
   ]
  },
  {
   "cell_type": "code",
   "execution_count": null,
   "metadata": {},
   "outputs": [],
   "source": [
    "columns = []\n",
    "for v in [\"px\", \"py\", \"pz\", \"E\", \"Id_\"]:\n",
    "    columns += [v+\"_%d\" % i for i in range(1, max_nTrk+1)]\n",
    "df = pd.DataFrame(columns=columns)\n"
   ]
  },
  {
   "cell_type": "code",
   "execution_count": null,
   "metadata": {},
   "outputs": [],
   "source": [
    "df = pd.DataFrame(index = ak.to_pandas(ntp[\"pz\"].array()).index, columns=[\"px\", \"py\", \"pz\", \"E\"])\n",
    "df[\"px\"] = ak.to_pandas(ntp[\"px\"].array())\n",
    "df[\"py\"] = ak.to_pandas(ntp[\"py\"].array())\n",
    "df[\"pz\"] = ak.to_pandas(ntp[\"pz\"].array())\n",
    "df[\"E\"] = ak.to_pandas(ntp[\"E\"].array())\n",
    "df = df.reset_index()\n",
    "df.pivot(values=[\"px\",\"py\",\"pz\",\"E\"], columns=\"entry\")"
   ]
  },
  {
   "cell_type": "code",
   "execution_count": null,
   "metadata": {},
   "outputs": [],
   "source": []
  }
 ],
 "metadata": {
  "kernelspec": {
   "display_name": "Python 3",
   "language": "python",
   "name": "python3"
  },
  "language_info": {
   "codemirror_mode": {
    "name": "ipython",
    "version": 3
   },
   "file_extension": ".py",
   "mimetype": "text/x-python",
   "name": "python",
   "nbconvert_exporter": "python",
   "pygments_lexer": "ipython3",
   "version": "3.8.5"
  }
 },
 "nbformat": 4,
 "nbformat_minor": 4
}
