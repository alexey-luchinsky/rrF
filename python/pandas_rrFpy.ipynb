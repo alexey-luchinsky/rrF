{
 "cells": [
  {
   "cell_type": "markdown",
   "metadata": {},
   "source": [
    "# rrFpy_pandas (Read ROOT File using python in pandas manner) package "
   ]
  },
  {
   "cell_type": "markdown",
   "metadata": {},
   "source": [
    "(c) Alexey Luchinsky"
   ]
  },
  {
   "cell_type": "markdown",
   "metadata": {},
   "source": [
    "This package could be useful for testing newly created EvtGen models. Supplied with EvtGen program **simpleEvtGenRO.exe** is nice with producing some output files, but the format of these files are rather complicated, a special program should be created to read it and to extract the histograms from it\n",
    "\n",
    "The supplied package makes this process very clean, easy, and fun.\n",
    "\n",
    "To use it you should only import one package"
   ]
  },
  {
   "cell_type": "code",
   "execution_count": null,
   "metadata": {},
   "outputs": [],
   "source": [
    "from  rrfpy.rrfpy_pandas import *"
   ]
  },
  {
   "cell_type": "markdown",
   "metadata": {},
   "source": [
    "For further demonstration of it's functionality we should also import some other standard python packages:"
   ]
  },
  {
   "cell_type": "code",
   "execution_count": null,
   "metadata": {},
   "outputs": [],
   "source": [
    "import matplotlib.pyplot as plt\n",
    "import numpy as np\n",
    "import plotly.express as ps\n",
    "import plotly.graph_objects as go\n",
    "from IPython.display import display, Latex\n",
    "import plotly.offline as pyo\n",
    "pyo.init_notebook_mode()\n",
    "import sys"
   ]
  },
  {
   "cell_type": "markdown",
   "metadata": {},
   "source": [
    "Let us start"
   ]
  },
  {
   "cell_type": "markdown",
   "metadata": {},
   "source": [
    "\n",
    "## $\\tau$ Decays"
   ]
  },
  {
   "cell_type": "markdown",
   "metadata": {},
   "source": [
    "We start with considering very simple decay: $\\tau^- \\to e^- \\bar{\\nu}_e \\nu_\\tau$\n",
    "\n",
    "The file we are analyzing was created in the **build/** directory using the command\n",
    "\n",
    "    ./simpleEvtGenRO.exe tau- ../src/tau_enu.dec  100000\n",
    "    cp evtOutput.root evtOutput_tau.root\n",
    "    \n",
    "Let is download it first"
   ]
  },
  {
   "cell_type": "code",
   "execution_count": null,
   "metadata": {},
   "outputs": [],
   "source": [
    "rrF = rrFpy_pandas(\"../c++/build/evtOutput_tau.root\")"
   ]
  },
  {
   "cell_type": "markdown",
   "metadata": {},
   "source": [
    "We can see that 100000 events were loaded"
   ]
  },
  {
   "cell_type": "code",
   "execution_count": null,
   "metadata": {},
   "outputs": [],
   "source": [
    "rrF.size()"
   ]
  },
  {
   "cell_type": "markdown",
   "metadata": {},
   "source": [
    "and all these events correspond to shown above $\\tau$-lepton decay"
   ]
  },
  {
   "cell_type": "code",
   "execution_count": null,
   "metadata": {},
   "outputs": [],
   "source": [
    "rrF[\"reac\"].value_counts()"
   ]
  },
  {
   "cell_type": "markdown",
   "metadata": {},
   "source": [
    "The decay tree of the specific event can be easily viewed:"
   ]
  },
  {
   "cell_type": "code",
   "execution_count": null,
   "metadata": {},
   "outputs": [],
   "source": [
    "rrF.PDT()"
   ]
  },
  {
   "cell_type": "markdown",
   "metadata": {},
   "source": [
    "This method can be configured in several ways, you are welcome to experiment with it"
   ]
  },
  {
   "cell_type": "markdown",
   "metadata": {},
   "source": [
    "The distributions over various kinematical vars can be extracted using **[\"var\"]** notation. Here is the energy of the first produced particle (i.e. electron), for example"
   ]
  },
  {
   "cell_type": "code",
   "execution_count": null,
   "metadata": {},
   "outputs": [],
   "source": [
    "distE = rrF[\"E_1\"]\n",
    "distE"
   ]
  },
  {
   "cell_type": "markdown",
   "metadata": {},
   "source": [
    "The result is usual **pandas.Series** object, so you can do whatever you want with is.\n",
    "\n",
    "Calculate the mean:"
   ]
  },
  {
   "cell_type": "code",
   "execution_count": null,
   "metadata": {},
   "outputs": [],
   "source": [
    "distE.mean()"
   ]
  },
  {
   "cell_type": "markdown",
   "metadata": {},
   "source": [
    "or even plot the histogram"
   ]
  },
  {
   "cell_type": "code",
   "execution_count": null,
   "metadata": {},
   "outputs": [],
   "source": [
    "distE.hist(bins=50, density = True)\n",
    "# analytical results\n",
    "mtau = rrF[\"m_0\"].mean()\n",
    "e = np.linspace(0, mtau/2, 100)\n",
    "plt.plot(e, 16/mtau**3*(3-4*e/mtau)*e**2, 'r', linewidth = 5);\n",
    "# final touches\n",
    "plt.xlabel(r\"$E_e,\\,\\mathrm{GeV}$\")\n",
    "plt.ylabel(r\"$d\\mathrm{Br}/dE_e,\\,\\mathrm{GeV}^{-1}$\")\n",
    "plt.title(rrF[\"reac\"].iloc[0])\n",
    "plt.show()"
   ]
  },
  {
   "cell_type": "markdown",
   "metadata": {},
   "source": [
    "Note that the result perfectly agrees with the textbook variant\n",
    "$$\\frac{d\\mathrm{Br}}{dE}= \\frac{16}{m_\\tau^3}\\left[3-\\frac{4E}{m_\\tau}\\right]E^2,$$\n",
    "that is shown with red line in the above plot\n",
    "\n",
    "All other distributions can also be easily constricted. Here, for example, are distributions over different square masses"
   ]
  },
  {
   "cell_type": "code",
   "execution_count": null,
   "metadata": {},
   "outputs": [],
   "source": [
    "rrF[[\"m2_12\", \"m2_13\", \"m2_23\"]].plot.hist(bins=50, histtype = 'step', density = True)\n",
    "plt.xlabel(r\"$m^2,\\,\\mathrm{GeV^2}$\")\n",
    "plt.ylabel(r\"$d\\mathrm{Br}/dm^2,\\,\\mathrm{GeV}^{-2}$\")\n",
    "plt.title(rrF[\"reac\"].iloc[0])\n",
    "plt.show()\n",
    "plt.show()"
   ]
  },
  {
   "cell_type": "markdown",
   "metadata": {},
   "source": [
    "Note that several distributions can be extracted in one command"
   ]
  },
  {
   "cell_type": "markdown",
   "metadata": {},
   "source": [
    "As expected, the relation\n",
    "$$s+t+u = \\sum_i m_i^2$$\n",
    "does hold for all events"
   ]
  },
  {
   "cell_type": "code",
   "execution_count": null,
   "metadata": {},
   "outputs": [],
   "source": [
    "np.sqrt(rrF[\"m2_12\"]+rrF[\"m2_13\"] + rrF[\"m2_23\"])"
   ]
  },
  {
   "cell_type": "markdown",
   "metadata": {},
   "source": [
    "Any cuts can easily be imposed to the data set"
   ]
  },
  {
   "cell_type": "code",
   "execution_count": null,
   "metadata": {},
   "outputs": [],
   "source": [
    "rrFcut = rrF.cut(\"E_1>0.4\")\n",
    "print(\"%d events survived after the cut (%d %%)\" % (rrFcut.size(), 100*rrFcut.size()/rrF.size()) )\n",
    "rrFcut[[\"m2_12\", \"m2_13\", \"m2_23\"]].plot.hist(bins=50, alpha = 0.5, density = True)\n",
    "plt.show()"
   ]
  },
  {
   "cell_type": "markdown",
   "metadata": {},
   "source": [
    "## $B_c$ Decays"
   ]
  },
  {
   "cell_type": "markdown",
   "metadata": {},
   "source": [
    "Let us try the package on more serious example: $B_c^+$ meson decays.\n",
    "\n",
    "The file we will be using here is created in **../build/** directory by the commands\n",
    "\n",
    "    ./simpleEvtGenRO.exe B_c+ ../src/Bc.dec  100000\n",
    "    cp evtOutput.root evtOutput_Bc.root\n",
    "    \n",
    "This can take some time and several **probmax** errors will be printed, it is normal\n",
    "\n",
    "As you can see from the decay file\n",
    "\n",
    "    noPhotos\n",
    "    Decay B_c+\n",
    "    1. J/psi pi+ pi+ pi- BC_VHAD 1;\n",
    "    1. J/psi pi+ pi+ pi- pi- pi+ BC_VHAD 1;\n",
    "    1. J/psi K+ K- pi+ BC_VHAD 1;\n",
    "    1. J/psi K+ pi+ pi- BC_VHAD 1;\n",
    "    Enddecay\n",
    "    End\n",
    "    \n",
    "the whole bunch of reactions is stored in the resulting ROOT"
   ]
  },
  {
   "cell_type": "markdown",
   "metadata": {},
   "source": [
    "Let us first load it"
   ]
  },
  {
   "cell_type": "code",
   "execution_count": null,
   "metadata": {},
   "outputs": [],
   "source": [
    "rrF = rrFpy_pandas()\n",
    "rrF.load_ROOT(\"../c++/build/evtOutput_Bc.root\")"
   ]
  },
  {
   "cell_type": "markdown",
   "metadata": {},
   "source": [
    "Here is the list of all reactions (with number of decays for each of them)"
   ]
  },
  {
   "cell_type": "code",
   "execution_count": null,
   "metadata": {},
   "outputs": [],
   "source": [
    "reacs = rrF[\"reac\"].value_counts()\n",
    "print(reacs)"
   ]
  },
  {
   "cell_type": "markdown",
   "metadata": {},
   "source": [
    "This data can be represented in nice graphical way"
   ]
  },
  {
   "cell_type": "code",
   "execution_count": null,
   "metadata": {},
   "outputs": [],
   "source": [
    "reacs.plot.barh()\n",
    "plt.xlabel(\"# of records\")\n",
    "plt.ylabel(\"reaction\")\n",
    "plt.show()\n"
   ]
  },
  {
   "cell_type": "markdown",
   "metadata": {},
   "source": [
    "First we will discuss the $B_c^+ \\to J/\\psi \\pi^+ \\pi^+ \\pi^-$ decay. To select the corresponding events we can use the **cut()** method (note that PDG codes for $\\pi^+$ and $\\pi^-$ particles are 211 and -211 respectively)"
   ]
  },
  {
   "cell_type": "code",
   "execution_count": null,
   "metadata": {},
   "outputs": [],
   "source": [
    "rrf_3pi = rrF.cut([\"ntr=5\", \"id_2=211\",\"id_3=211\",\"id_4=-211\"])\n",
    "rrf_3pi[\"reac\"].value_counts()"
   ]
  },
  {
   "cell_type": "markdown",
   "metadata": {},
   "source": [
    "As you can see, only the reaction we are interested in is left.\n",
    "\n",
    "The same result can be obtained with **filter** method, that accepts a boolean list as an argument (see the similar mask functionality of the **pandas.DataFrame** objects)"
   ]
  },
  {
   "cell_type": "code",
   "execution_count": null,
   "metadata": {},
   "outputs": [],
   "source": [
    "rrf_3pi  = rrF.filter( (rrF[\"ntr\"]==5) & (rrF[\"name_2\"] == \"pi+\") & (rrF[\"name_3\"]==\"pi+\") & (rrF[\"name_4\"]==\"pi-\") )\n",
    "rrf_3pi[\"reac\"].value_counts()"
   ]
  },
  {
   "cell_type": "markdown",
   "metadata": {},
   "source": [
    "Sometimes the last notation is not very convenient, but it is much more powerful then the **cut()** method\n",
    "\n",
    "In any case we can extract from the resulting object the distribution over any kinematic variable using [] notation"
   ]
  },
  {
   "cell_type": "code",
   "execution_count": null,
   "metadata": {},
   "outputs": [],
   "source": [
    "rrf_3pi[\"m_23\"]"
   ]
  },
  {
   "cell_type": "markdown",
   "metadata": {},
   "source": [
    "The result is **pandas.Series** object, so you can do whatever you want with it.\n",
    "\n",
    "Calculate the mean, for example"
   ]
  },
  {
   "cell_type": "code",
   "execution_count": null,
   "metadata": {},
   "outputs": [],
   "source": [
    "rrf_3pi[\"m_23\"].mean()"
   ]
  },
  {
   "cell_type": "markdown",
   "metadata": {},
   "source": [
    "Or plot it"
   ]
  },
  {
   "cell_type": "code",
   "execution_count": null,
   "metadata": {},
   "outputs": [],
   "source": [
    "rrf_3pi[\"m2_23\"].hist(bins=30)\n",
    "plt.xlabel(r\"$m_{23}$\")\n",
    "plt.show()"
   ]
  },
  {
   "cell_type": "markdown",
   "metadata": {},
   "source": [
    "You can use the whole python functionality, so very nice plots can be easily created in small time"
   ]
  },
  {
   "cell_type": "code",
   "execution_count": null,
   "metadata": {},
   "outputs": [],
   "source": [
    "fig, ax = plt.subplots(nrows = 1, ncols = 1)\n",
    "rrf_3pi = rrF.cut([\"ntr=5\",\"id_2=211\"])\n",
    "variables = {'m_23':r'$\\pi^+\\pi^+$', 'm_24':r'$\\pi^+\\pi^-$', 'm_34':r'$\\pi^+\\pi^-$'}\n",
    "for var, name in variables.items():\n",
    "    rrf_3pi[var].hist(label=name, alpha=0.5, bins=50)\n",
    "fig.suptitle(rrf_3pi[\"reac\"].drop_duplicates().iloc[0])\n",
    "ax.axvline(x=0.77, linestyle = '--', color = 'r')\n",
    "plt.legend()\n",
    "plt.show()"
   ]
  },
  {
   "cell_type": "markdown",
   "metadata": {},
   "source": [
    "In the above plot you can easily see that distributions over two $\\pi^+\\pi^-$ masses are the same (two $\\pi^+$ mesons are identical) and show the peak at $m_{\\pi\\pi}\\sim m_\\rho \\approx 770$ MeV (is shown with the red dashed line).\n",
    "\n",
    "In the case of $m_{\\pi^+\\pi^+}$ distribution such a peak is absent."
   ]
  },
  {
   "cell_type": "markdown",
   "metadata": {},
   "source": [
    "The plot can be made more beautiful and interactive with the **pyplot** package. Now you can use your mouse cursor to see the exact position of the peak (pay attention to the hover text)"
   ]
  },
  {
   "cell_type": "code",
   "execution_count": null,
   "metadata": {},
   "outputs": [],
   "source": [
    "rrf_3pi = rrF.cut([\"ntr=5\",\"id_2=211\"])\n",
    "data = rrf_3pi\n",
    "variables = {'m_23':r'$\\pi^+\\pi^+$', 'm_24':r'$\\pi^+\\pi^-$', 'm_34':r'$\\pi^+\\pi^-$'}\n",
    "fig = go.Figure()\n",
    "for var, name in variables.items():\n",
    "    fig.add_trace(go.Histogram(x=data[var], name = name, histnorm='probability density'))\n",
    "fig.update_layout(barmode='overlay',\n",
    "                  xaxis_title=r\"$m_{\\pi\\pi}, \\mathrm{GeV}$\",\n",
    "                yaxis_title=\"$d\\mathrm{Br}/dm_{\\pi\\pi}, \\mathrm{GeV}^{-1}$\",\n",
    "                 title = data[\"reac\"].drop_duplicates().iloc[0])\n",
    "fig.update_traces(opacity=0.5)\n",
    "fig.show()"
   ]
  },
  {
   "cell_type": "markdown",
   "metadata": {},
   "source": [
    "With minimal modifications we draw the similar distributions for other reactions"
   ]
  },
  {
   "cell_type": "code",
   "execution_count": null,
   "metadata": {},
   "outputs": [],
   "source": [
    "rrf_Kpipi = rrF.cut([\"ntr=5\",\"id_2=321\",\"id_3=211\"])\n",
    "variables = {'m_23':r'$K^+\\pi^+$', 'm_24':r'$K^+\\pi^-$', 'm_34':r'$\\pi^+\\pi^-$'}\n",
    "fig = go.Figure()\n",
    "for var, name in variables.items():\n",
    "    fig.add_trace(go.Histogram(x=rrf_Kpipi[var], name = name, histnorm='probability density'))\n",
    "fig.update_layout(barmode='overlay',\n",
    "                  xaxis_title=r\"$m_{\\pi\\pi}, \\mathrm{GeV}$\",\n",
    "                yaxis_title=\"$d\\mathrm{Br}/dm_{\\pi\\pi}, \\mathrm{GeV}^{-1}$\",\n",
    "                 title = rrf_Kpipi[\"reac\"].drop_duplicates().iloc[0])\n",
    "fig.update_traces(opacity=0.5)\n",
    "fig.show()"
   ]
  },
  {
   "cell_type": "code",
   "execution_count": null,
   "metadata": {
    "scrolled": true
   },
   "outputs": [],
   "source": [
    "rrf_KKpi = rrF.cut([\"ntr=5\",\"id_2=321\",\"id_3=-321\"])\n",
    "variables = {'m_23':r'$K^+K^-$', 'm_24':r'$K^+\\pi^+$', 'm_34':r'$K^-\\pi^+$'}\n",
    "fig = go.Figure()\n",
    "for var, name in variables.items():\n",
    "    fig.add_trace(go.Histogram(x=rrf_KKpi[var], name = name, histnorm='probability density'))\n",
    "fig.update_layout(barmode='overlay',\n",
    "                  xaxis_title=r\"$m_{\\pi\\pi}, \\mathrm{GeV}$\",\n",
    "                yaxis_title=\"$d\\mathrm{Br}/dm_{\\pi\\pi}, \\mathrm{GeV}^{-1}$\",\n",
    "                 title = rrf_KKpi[\"reac\"].drop_duplicates().iloc[0])\n",
    "fig.update_traces(opacity=0.5)\n",
    "fig.show()"
   ]
  },
  {
   "cell_type": "markdown",
   "metadata": {},
   "source": [
    "## Cleaning the Decays"
   ]
  },
  {
   "cell_type": "markdown",
   "metadata": {},
   "source": [
    "Sometimes the analyzed datasets are very complicated and include decay chains. In this cases it could be useful and interesting to remove all decayed particles from them and leave only the stable ones. There is a special method for it\n",
    "\n",
    "Let us consider the decay file **c++/src/chi.dec**:\n",
    "\n",
    "    noPhotos\n",
    "    Decay chi_c2\n",
    "    0.195000000 gamma   J/psi  PHSP;\n",
    "    \n",
    "    Enddecay\n",
    "    Decay J/psi\n",
    "    0.059400000 e+      e-   PHOTOS   VLL;\n",
    "    0.005600000 rho0    pi0  PARTWAVE 0.0 0.0 1.0 0.0 0.0 0.0;\n",
    "    \n",
    "    Enddecay\n",
    "    Decay rho0\n",
    "    1.000    pi+ pi-   VSS;\n",
    "    Enddecay\n",
    "\n",
    "    End\n",
    "\n",
    "As you can see, it describes $\\chi_{c2}$ meson's decays via two decay chains:\n",
    "* $\\chi_{c2} \\to \\gamma J/\\psi \\to \\gamma e^+ e^-$\n",
    "* $\\chi_{c2} \\to \\gamma J/\\psi \\to \\gamma \\rho^0 \\pi^0 \\to \\gamma \\pi^+ \\pi^- \\pi^0$\n",
    "\n",
    "In both cases $J/\\psi$ is decaying, in the second case $\\rho^0$ meson decays also.\n",
    "\n",
    "The corresponding ROOT file can be created in the **c++/build** directory by the commands\n",
    "\n",
    "     ./simpleEvtGenRO.exe chi_c2 ../src/chi.dec  100000\n",
    "     mv evtOutput.root evtOutput_chi2.root\n",
    "     \n",
    "Let us load it"
   ]
  },
  {
   "cell_type": "code",
   "execution_count": null,
   "metadata": {},
   "outputs": [],
   "source": [
    "rrF = rrFpy_pandas(\"../c++/build/evtOutput_chi2.root\")\n",
    "print(rrF.size(),\" events were loaded\")\n",
    "rrF[\"reac\"].value_counts()"
   ]
  },
  {
   "cell_type": "markdown",
   "metadata": {},
   "source": [
    "As we have expected, there are two types of the reaction and in each case all particles (both decayed and survived) \n",
    "are stored in the history.\n",
    "\n",
    "To see it clearly we can look at the decay trees"
   ]
  },
  {
   "cell_type": "code",
   "execution_count": null,
   "metadata": {},
   "outputs": [],
   "source": [
    "rrF.cut(\"ntr=5\").PDT(iEv=0)"
   ]
  },
  {
   "cell_type": "code",
   "execution_count": null,
   "metadata": {},
   "outputs": [],
   "source": [
    "rrF.cut(\"ntr=7\").PDT(iEv=0)"
   ]
  },
  {
   "cell_type": "markdown",
   "metadata": {},
   "source": [
    "You can also look at the decay tree of the specific particle ($J/\\psi$, for example):"
   ]
  },
  {
   "cell_type": "code",
   "execution_count": null,
   "metadata": {},
   "outputs": [],
   "source": [
    "rrF.cut(\"ntr=7\").PDT(i=2, decay_char=\"->\")"
   ]
  },
  {
   "cell_type": "markdown",
   "metadata": {},
   "source": [
    "Let us draw the distribution over the $\\rho^0$ meson mass, i.e. $m_{\\pi^+\\pi^-}$:"
   ]
  },
  {
   "cell_type": "code",
   "execution_count": null,
   "metadata": {},
   "outputs": [],
   "source": [
    "rrF.cut(\"ntr = 7\")[\"m_56\"].hist(bins=30)\n",
    "plt.show()"
   ]
  },
  {
   "cell_type": "markdown",
   "metadata": {},
   "source": [
    "We clearly see the peak caused by the resonance particle, but we needed to figure out that indexes of two final $\\pi$-mesons in the record are 5 and 6.\n",
    "\n",
    "We can clean the record and remove all decayed particles:"
   ]
  },
  {
   "cell_type": "code",
   "execution_count": null,
   "metadata": {},
   "outputs": [],
   "source": [
    "rrf_cleaned = rrF.cut(\"ntr=7\").remove_decayed()\n",
    "print(rrf_cleaned[\"reac\"].value_counts())\n",
    "print(\"=======\")\n",
    "rrf_cleaned.PDT()"
   ]
  },
  {
   "cell_type": "markdown",
   "metadata": {},
   "source": [
    "Now there are only 4 particles in the dataset, the stable particles. All kinematical information is saved, so we can draw the same distribution:"
   ]
  },
  {
   "cell_type": "code",
   "execution_count": null,
   "metadata": {},
   "outputs": [],
   "source": [
    "rrf_cleaned[\"m_34\"].hist(bins = 30)\n",
    "plt.show()"
   ]
  },
  {
   "cell_type": "markdown",
   "metadata": {},
   "source": [
    "Here is the mass of the $J/\\psi$ meson"
   ]
  },
  {
   "cell_type": "code",
   "execution_count": null,
   "metadata": {},
   "outputs": [],
   "source": [
    "rrf_cleaned[\"m_123\"]"
   ]
  },
  {
   "cell_type": "markdown",
   "metadata": {},
   "source": [
    "And here is the mass of the original particle"
   ]
  },
  {
   "cell_type": "code",
   "execution_count": null,
   "metadata": {},
   "outputs": [],
   "source": [
    "rrf_cleaned[\"m_0123\"]"
   ]
  },
  {
   "cell_type": "markdown",
   "metadata": {},
   "source": [
    "Note that the size of the object has reduced significantly:"
   ]
  },
  {
   "cell_type": "code",
   "execution_count": null,
   "metadata": {},
   "outputs": [],
   "source": [
    "print(\"Original: %d MB\" % int(sys.getsizeof(rrF._df_pivoted)/2**20))\n",
    "print(\"Cleaned: %d MB\" % int(sys.getsizeof(rrf_cleaned._df_pivoted)/2**20))"
   ]
  },
  {
   "cell_type": "markdown",
   "metadata": {},
   "source": [
    "There are several reasons for this:\n",
    "\n",
    "* Number of stored particles is reduced\n",
    "* In the cleaned dataset for each particle we store only momentum and nTrk information, no coordinates, mothers, daughters, etc"
   ]
  },
  {
   "cell_type": "code",
   "execution_count": null,
   "metadata": {},
   "outputs": [],
   "source": []
  },
  {
   "cell_type": "code",
   "execution_count": null,
   "metadata": {},
   "outputs": [],
   "source": []
  }
 ],
 "metadata": {
  "kernelspec": {
   "display_name": "Python 3",
   "language": "python",
   "name": "python3"
  },
  "language_info": {
   "codemirror_mode": {
    "name": "ipython",
    "version": 3
   },
   "file_extension": ".py",
   "mimetype": "text/x-python",
   "name": "python",
   "nbconvert_exporter": "python",
   "pygments_lexer": "ipython3",
   "version": "3.8.5"
  }
 },
 "nbformat": 4,
 "nbformat_minor": 4
}
