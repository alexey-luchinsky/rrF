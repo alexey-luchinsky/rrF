{
 "cells": [
  {
   "cell_type": "code",
   "execution_count": null,
   "metadata": {},
   "outputs": [],
   "source": [
    "import uproot as up\n",
    "import matplotlib.pyplot as plt\n",
    "import numpy as np\n",
    "import awkward as ak\n",
    "import re\n",
    "import pandas as pd\n",
    "from uproot3_methods.classes.TLorentzVector import TLorentzVector\n",
    "from tqdm.notebook import tqdm\n",
    "import pandas as pd"
   ]
  },
  {
   "cell_type": "code",
   "execution_count": null,
   "metadata": {},
   "outputs": [],
   "source": [
    "file = up.open('../build/evtOutput.root')\n",
    "ntp = file[\"ntp\"]"
   ]
  },
  {
   "cell_type": "code",
   "execution_count": null,
   "metadata": {},
   "outputs": [],
   "source": [
    "class rrFpy_pandas:\n",
    "    def __init__(self, file_name):\n",
    "        file = up.open('../build/evtOutput.root')\n",
    "        ntp = file[\"ntp\"]\n",
    "        df = pd.DataFrame(index = ak.to_pandas(ntp[\"pz\"].array()).index, columns=[\"px\", \"py\", \"pz\", \"E\", \"Id\"])\n",
    "        df[\"px\"] = ak.to_pandas(ntp[\"px\"].array())\n",
    "        df[\"py\"] = ak.to_pandas(ntp[\"py\"].array())\n",
    "        df[\"pz\"] = ak.to_pandas(ntp[\"pz\"].array())\n",
    "        df[\"E\"] = ak.to_pandas(ntp[\"E\"].array())\n",
    "        df = df.reset_index()\n",
    "        self.df_pivoted = pd.pivot_table(df, index = \"entry\", columns=\"subentry\", values = [\"px\",\"py\", \"pz\",\"E\", \"Id\"])\n",
    "        file.close()\n",
    "    def sign(self, x):\n",
    "        return -1 if x<0 else 1\n",
    "    def parse_var(self, var):\n",
    "        [name, numbers] = var.split(\"_\")\n",
    "        func = {'m2': lambda t, x, y, z: t**2-x**2-y**2-z**2,\n",
    "                'm': lambda t, x, y, z: np.sqrt(t**2-x**2-y**2-z**2),\n",
    "                'pt2': lambda t, x, y, z: x**2+y**2,\n",
    "                 'pt': lambda t, x, y, z: np.sqrt(x**2+y**2)}[name]\n",
    "        part_list = [int(n) for n in re.sub('([0-9])',r'\\1 ',numbers.replace('m','-')).split(' ')[:-1]]\n",
    "        return func, part_list\n",
    "    def __getitem__(self, key):\n",
    "        df_res = pd.DataFrame(index=self.df_pivoted.index, columns = [\"px\",\"py\",\"pz\",\"E\", \"out\"]).fillna(0)\n",
    "        func, part_list = self.parse_var(key)\n",
    "        for i in part_list:\n",
    "            abs_i = abs(i)\n",
    "            for v in [\"px\",\"py\",\"pz\",\"E\"]:\n",
    "                df_res[v] += self.sign(i)*self.df_pivoted[v,abs_i]\n",
    "        return func( df_res[\"E\"], df_res[\"px\"], df_res[\"py\"], df_res[\"pz\"])"
   ]
  },
  {
   "cell_type": "code",
   "execution_count": null,
   "metadata": {},
   "outputs": [],
   "source": [
    "rrF = rrFpy_pandas(\"../build/evtOutput.root\")"
   ]
  },
  {
   "cell_type": "code",
   "execution_count": null,
   "metadata": {},
   "outputs": [],
   "source": [
    "rrF[\"m_23\"].plot.hist(bins = 30)"
   ]
  },
  {
   "cell_type": "code",
   "execution_count": null,
   "metadata": {},
   "outputs": [],
   "source": []
  }
 ],
 "metadata": {
  "kernelspec": {
   "display_name": "Python 3",
   "language": "python",
   "name": "python3"
  },
  "language_info": {
   "codemirror_mode": {
    "name": "ipython",
    "version": 3
   },
   "file_extension": ".py",
   "mimetype": "text/x-python",
   "name": "python",
   "nbconvert_exporter": "python",
   "pygments_lexer": "ipython3",
   "version": "3.8.5"
  }
 },
 "nbformat": 4,
 "nbformat_minor": 4
}
