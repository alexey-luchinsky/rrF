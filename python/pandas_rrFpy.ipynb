{
 "cells": [
  {
   "cell_type": "code",
   "execution_count": null,
   "metadata": {},
   "outputs": [],
   "source": [
    "import uproot as up\n",
    "import matplotlib.pyplot as plt\n",
    "import numpy as np\n",
    "import awkward as ak\n",
    "import re\n",
    "import pandas as pd\n",
    "from uproot3_methods.classes.TLorentzVector import TLorentzVector\n",
    "from tqdm.notebook import tqdm\n",
    "import pandas as pd"
   ]
  },
  {
   "cell_type": "code",
   "execution_count": 102,
   "metadata": {},
   "outputs": [],
   "source": [
    "class rrFpy_pandas:\n",
    "    def __init__(self, file_name):\n",
    "        file = up.open(file_name)\n",
    "        ntp = file[\"ntp\"]\n",
    "        df = pd.DataFrame(index = ak.to_pandas(ntp[\"pz\"].array()).index, columns=[\"px\", \"py\", \"pz\", \"E\", \"Id\"])\n",
    "        df[\"px\"] = ak.to_pandas(ntp[\"px\"].array())\n",
    "        df[\"py\"] = ak.to_pandas(ntp[\"py\"].array())\n",
    "        df[\"pz\"] = ak.to_pandas(ntp[\"pz\"].array())\n",
    "        df[\"E\"] = ak.to_pandas(ntp[\"E\"].array())\n",
    "        df[\"Id\"] = ak.to_pandas(ntp[\"Id\"].array())\n",
    "        df = df.reset_index()\n",
    "        self.df_pivoted = pd.pivot_table(df, index = \"entry\", columns=\"subentry\", values = [\"px\",\"py\", \"pz\",\"E\", \"Id\"])\n",
    "        self.df_pivoted[\"nTrk\"] = ak.to_pandas(ntp[\"nTrk\"].array())\n",
    "        self.df_pivoted[\"filter\"] = True\n",
    "        file.close()\n",
    "    def sign(self, x):\n",
    "        return -1 if x<0 else 1\n",
    "    \n",
    "    def parse_var(self, var):\n",
    "        \"\"\"\n",
    "        parse_var(var): parses variables into name and list of particles\n",
    "        \"\"\"\n",
    "        [name, numbers] = var.split(\"_\")\n",
    "        part_list = [int(n) for n in re.sub('([0-9])',r'\\1 ',numbers.replace('m','-')).split(' ')[:-1]]\n",
    "        return name, part_list\n",
    "    \n",
    "    def get_momDF_from_partList(self, part_list):\n",
    "        \"\"\"\n",
    "        Constructs new dataFrame with 'px', 'py', 'pz', 'E' fields polulated with components of \n",
    "        total momentum that corresponds to part_list\n",
    "        \"\"\"\n",
    "        df_res = pd.DataFrame(index=self.df_pivoted.index, columns = [\"px\",\"py\",\"pz\",\"E\", \"out\"]).fillna(0)\n",
    "        for i in part_list:\n",
    "            abs_i = abs(i)\n",
    "            for v in [\"px\",\"py\",\"pz\",\"E\"]:\n",
    "                df_res[v] += self.sign(i)*self.df_pivoted[v,abs_i]\n",
    "        return df_res\n",
    "        \n",
    "    def __getitem__(self, key):\n",
    "        \"\"\"\n",
    "        [var] operator: constructs the table of the variable for given dataset (taking cuts into account)\n",
    "        \"\"\"\n",
    "        if type(key) == str:   # extract one var as a Series\n",
    "            if key == \"ntr\":\n",
    "                df_res = self.df_pivoted[\"nTrk\"]\n",
    "                df_res = df_res[ self.df_pivoted[\"filter\"]]\n",
    "                return df_res\n",
    "            name, part_list = self.parse_var(key)\n",
    "            mom_functions_dict =  {'m2': lambda t, x, y, z: t**2-x**2-y**2-z**2,\n",
    "                'm': lambda t, x, y, z: np.sqrt(t**2-x**2-y**2-z**2),\n",
    "                'pt2': lambda t, x, y, z: x**2+y**2,\n",
    "                 'pt': lambda t, x, y, z: np.sqrt(x**2+y**2)};\n",
    "            if name in mom_functions_dict.keys():\n",
    "                func =mom_functions_dict[name]\n",
    "                df_res = self.get_momDF_from_partList(part_list)\n",
    "                df_res = df_res[ self.df_pivoted[\"filter\"]]\n",
    "                return func( df_res[\"E\"], df_res[\"px\"], df_res[\"py\"], df_res[\"pz\"])\n",
    "            elif name == \"id\":\n",
    "                df_res = self.df_pivoted[\"Id\", abs(part_list[0])]\n",
    "                df_res = df_res[ self.df_pivoted[\"filter\"]]\n",
    "                return df_res\n",
    "        elif type(key) == list:  # exctract many vars and DataFrame\n",
    "            df_all =  pd.concat([self[k] for k in key], axis=1)\n",
    "            df_all.columns = key\n",
    "            return df_all\n",
    "    \n",
    "    def reset_cuts(self):\n",
    "        \"\"\"\n",
    "        Resets all filters set by previous cuts\n",
    "        \"\"\"\n",
    "        self.df_pivoted[\"filter\"] = True\n",
    "\n",
    "    def cut(self, condition):\n",
    "        \"\"\"\n",
    "        cut(condition): imposes a cut to the given dataset. Can be restored with reset_cuts\n",
    "        \"\"\"\n",
    "        if type(condition) == str:\n",
    "            condition = re.sub('([<>=])',r' \\1 ', condition)\n",
    "            var, operation, lhs = [s for s in condition.split(' ') if len(s)>0]\n",
    "            if(operation == '>'):\n",
    "                lhs = float(lhs)\n",
    "                self.df_pivoted[\"filter\"] = self.df_pivoted[\"filter\"] & (self[var] > lhs) \n",
    "            elif operation == '<':\n",
    "                lhs = float(lhs)\n",
    "                self.df_pivoted[\"filter\"] = self.df_pivoted[\"filter\"] & (self[var] < lhs) \n",
    "            elif operation == '=':\n",
    "                if '+-' in lhs:\n",
    "                    lhs, error = [float(n) for n in lhs.split('+-')]\n",
    "                else:\n",
    "                    lhs = float(lhs)\n",
    "                    error = 1e-3\n",
    "                self.df_pivoted[\"filter\"] = self.df_pivoted[\"filter\"] & \\\n",
    "                    (self[var] > lhs - error) & (self[var] < lhs + error)\n",
    "        elif type(condition) == list:\n",
    "            for cond in condition:\n",
    "                self.cut(cond)\n",
    "        return np.count_nonzero(self.df_pivoted[\"filter\"])"
   ]
  },
  {
   "cell_type": "code",
   "execution_count": 110,
   "metadata": {},
   "outputs": [],
   "source": [
    "rrF = rrFpy_pandas(\"../build/evtOutput.root\")"
   ]
  },
  {
   "cell_type": "code",
   "execution_count": 111,
   "metadata": {},
   "outputs": [
    {
     "name": "stdout",
     "output_type": "stream",
     "text": [
      "1.0000016604312472\n"
     ]
    },
    {
     "data": {
      "image/png": "[encoded data removed]",
      "text/plain": [
       "<Figure size 432x288 with 1 Axes>"
      ]
     },
     "metadata": {
      "needs_background": "light"
     },
     "output_type": "display_data"
    }
   ],
   "source": [
    "rrF.reset_cuts()\n",
    "rrF.cut(\"m_12>1\")\n",
    "print(min(rrF[\"m_12\"]))\n",
    "rrF[\"m_12\"].hist()\n",
    "plt.show()"
   ]
  },
  {
   "cell_type": "code",
   "execution_count": 107,
   "metadata": {},
   "outputs": [
    {
     "name": "stdout",
     "output_type": "stream",
     "text": [
      "26870\n",
      "-211.0\n"
     ]
    },
    {
     "data": {
      "image/png": "[encoded data removed]",
      "text/plain": [
       "<Figure size 432x288 with 1 Axes>"
      ]
     },
     "metadata": {
      "needs_background": "light"
     },
     "output_type": "display_data"
    }
   ],
   "source": [
    "rrF.reset_cuts()\n",
    "print(rrF.cut([\"id_1=-211\"]))\n",
    "print(min(rrF[\"id_1\"]))\n",
    "rrF[\"id_1\"].hist()\n",
    "plt.show()"
   ]
  },
  {
   "cell_type": "code",
   "execution_count": 109,
   "metadata": {},
   "outputs": [
    {
     "data": {
      "text/plain": [
       "entry\n",
       "0        5\n",
       "2        5\n",
       "3        5\n",
       "4        5\n",
       "8        5\n",
       "        ..\n",
       "99986    5\n",
       "99990    5\n",
       "99994    5\n",
       "99995    5\n",
       "99999    5\n",
       "Name: nTrk, Length: 26870, dtype: int32"
      ]
     },
     "execution_count": 109,
     "metadata": {},
     "output_type": "execute_result"
    }
   ],
   "source": [
    "rrF[\"ntr\"]"
   ]
  },
  {
   "cell_type": "code",
   "execution_count": null,
   "metadata": {},
   "outputs": [],
   "source": [
    "rrF[\"ntr\"].value_counts()"
   ]
  },
  {
   "cell_type": "code",
   "execution_count": null,
   "metadata": {},
   "outputs": [],
   "source": [
    "rrF.reset_cuts()\n",
    "rrF.cut(\"ntr=5\")\n",
    "rrF.cut(\"id_1=-211\")"
   ]
  },
  {
   "cell_type": "code",
   "execution_count": null,
   "metadata": {},
   "outputs": [],
   "source": [
    "rrF[[\"id_1\"]]"
   ]
  },
  {
   "cell_type": "code",
   "execution_count": null,
   "metadata": {},
   "outputs": [],
   "source": [
    "np.count_nonzero(rrF.df_pivoted[\"filter\"])"
   ]
  },
  {
   "cell_type": "code",
   "execution_count": null,
   "metadata": {},
   "outputs": [],
   "source": [
    "rrF[[\"id_1\"]]"
   ]
  },
  {
   "cell_type": "code",
   "execution_count": null,
   "metadata": {},
   "outputs": [],
   "source": [
    "rrF[['id_0','ntr']]"
   ]
  },
  {
   "cell_type": "code",
   "execution_count": null,
   "metadata": {},
   "outputs": [],
   "source": [
    "rrF.cut(\"m_12>1\")"
   ]
  },
  {
   "cell_type": "code",
   "execution_count": null,
   "metadata": {},
   "outputs": [],
   "source": [
    "rrF[\"m_12\"].hist(bins=100, histtype = 'step')\n",
    "plt.show()"
   ]
  },
  {
   "cell_type": "code",
   "execution_count": null,
   "metadata": {},
   "outputs": [],
   "source": [
    "rrF.reset_cuts()\n",
    "rrF[\"m_12\"].hist(bins=100, histtype = 'step')\n",
    "plt.show()"
   ]
  },
  {
   "cell_type": "code",
   "execution_count": null,
   "metadata": {},
   "outputs": [],
   "source": [
    "aa = rrF[[\"pt_1\",\"pt_2\",\"pt_3\"]]\n",
    "aa"
   ]
  },
  {
   "cell_type": "code",
   "execution_count": null,
   "metadata": {},
   "outputs": [],
   "source": [
    "aa.plot.hist(bins=50, histtype = 'step')"
   ]
  },
  {
   "cell_type": "code",
   "execution_count": null,
   "metadata": {},
   "outputs": [],
   "source": [
    "?aa.plot.hist"
   ]
  },
  {
   "cell_type": "code",
   "execution_count": null,
   "metadata": {},
   "outputs": [],
   "source": []
  }
 ],
 "metadata": {
  "kernelspec": {
   "display_name": "Python 3",
   "language": "python",
   "name": "python3"
  },
  "language_info": {
   "codemirror_mode": {
    "name": "ipython",
    "version": 3
   },
   "file_extension": ".py",
   "mimetype": "text/x-python",
   "name": "python",
   "nbconvert_exporter": "python",
   "pygments_lexer": "ipython3",
   "version": "3.8.5"
  }
 },
 "nbformat": 4,
 "nbformat_minor": 4
}
