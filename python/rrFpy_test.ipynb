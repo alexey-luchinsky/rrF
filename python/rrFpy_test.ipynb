{
 "cells": [
  {
   "cell_type": "code",
   "execution_count": null,
   "metadata": {},
   "outputs": [],
   "source": [
    "import uproot as up\n",
    "import matplotlib.pyplot as plt\n",
    "import numpy as np\n",
    "\n",
    "import re"
   ]
  },
  {
   "cell_type": "code",
   "execution_count": null,
   "metadata": {},
   "outputs": [],
   "source": [
    "from uproot3_methods.classes.TLorentzVector import TLorentzVector\n",
    "mag2 = TLorentzVector.mag2"
   ]
  },
  {
   "cell_type": "code",
   "execution_count": null,
   "metadata": {},
   "outputs": [],
   "source": [
    "file = up.open(\"../build/evtOutput.root\")"
   ]
  },
  {
   "cell_type": "code",
   "execution_count": null,
   "metadata": {},
   "outputs": [],
   "source": [
    "np.abs([-1,1,1])"
   ]
  },
  {
   "cell_type": "code",
   "execution_count": null,
   "metadata": {},
   "outputs": [],
   "source": [
    "class rootDF:\n",
    "    def __init__(self, file_name):\n",
    "        file = up.open(file_name)\n",
    "        ntp = file[\"ntp\"]\n",
    "        self.Px = ntp[\"px\"].array()\n",
    "        self.Py = ntp[\"py\"].array()\n",
    "        self.Pz = ntp[\"pz\"].array()\n",
    "        self.E = ntp[\"E\"].array()\n",
    "        self.nTrk = ntp[\"nTrk\"].array()\n",
    "        file.close()\n",
    "    def sign(self, x):\n",
    "        return -1 if x<0 else 1\n",
    "    def get_p_from_list(self, iEv, part_list):\n",
    "        p = TLorentzVector(0, 0, 0, 0)\n",
    "        for i in part_list:\n",
    "            if( max(np.abs(part_list)) >= self.nTrk[iEv]):\n",
    "                continue\n",
    "            abs_i = abs(i)\n",
    "            p += self.sign(i)*TLorentzVector(\n",
    "                self.Px[iEv][abs_i], self.Py[iEv][abs_i], self.Pz[iEv][abs_i], self.E[iEv][abs_i]\n",
    "            )\n",
    "        return p\n",
    "    def size(self):\n",
    "        return len(self.Px)\n",
    "    def apply(self, func, iEv, part_list):\n",
    "        p = self.get_p_from_list(iEv, part_list)\n",
    "        try:\n",
    "            return func.fget(p)\n",
    "        except ValueError:\n",
    "            return 0\n",
    "    def m2(self, iEv, part_list):\n",
    "        return self.apply(TLorentzVector.mag2, iEv, part_list)\n",
    "    def m(self, iEv, part_list):\n",
    "        return self.apply(TLorentzVector.mag, iEv, part_list)\n",
    "    def pt2(self, iEv, part_list):\n",
    "        return self.apply(TLorentzVector.pt2, iEv, part_list)\n",
    "    def pt(self, iEv, part_list):\n",
    "        return self.apply(TLorentzVector.pt, iEv, part_list)\n",
    "    def __getitem__(self, key):\n",
    "        if type(key)==str:\n",
    "            [name, numbers] = key.split(\"_\")\n",
    "            func = {'m2':TLorentzVector.mag2,\n",
    "                    'm': TLorentzVector.mag,\n",
    "                    'pt2': TLorentzVector.pt2,\n",
    "                     'pt': TLorentzVector.pt}[name]\n",
    "            part_list = [int(n) for n in re.sub('([0-9])',r'\\1 ',numbers.replace('m','-')).split(' ')[:-1]]\n",
    "            return np.array([self.apply(func, iEv, part_list) for iEv in range(self.size())])\n",
    "        if type(key) == list:\n",
    "            return [self[k] for k in key]\n",
    "\n",
    "    def calc(self, var, nEv = None, verbose = False):\n",
    "        [name, numbers] = var.split(\"_\")\n",
    "        func = {'m2':TLorentzVector.mag2,\n",
    "                'm': TLorentzVector.mag,\n",
    "                'pt2': TLorentzVector.pt2,\n",
    "                 'pt': TLorentzVector.pt}[name]\n",
    "        part_list = [int(n) for n in re.sub('([0-9])',r'\\1 ',numbers.replace('m','-')).split(' ')[:-1]]\n",
    "        if verbose:\n",
    "            print(name, part_list)\n",
    "        if not nEv:\n",
    "            nEv = self.size()\n",
    "        return np.array([self.apply(func, iEv, part_list) for iEv in range(nEv)])"
   ]
  },
  {
   "cell_type": "code",
   "execution_count": null,
   "metadata": {},
   "outputs": [],
   "source": [
    "df = rootDF('../build/evtOutput.root')"
   ]
  },
  {
   "cell_type": "code",
   "execution_count": null,
   "metadata": {},
   "outputs": [],
   "source": [
    "plt.hist(df[\"pt_12\"])\n",
    "plt.show()"
   ]
  },
  {
   "cell_type": "code",
   "execution_count": null,
   "metadata": {},
   "outputs": [],
   "source": [
    "hh = df[['pt_12', 'pt_0m3']]"
   ]
  },
  {
   "cell_type": "code",
   "execution_count": null,
   "metadata": {},
   "outputs": [],
   "source": [
    "hh[0]-hh[1]"
   ]
  },
  {
   "cell_type": "code",
   "execution_count": null,
   "metadata": {
    "scrolled": true
   },
   "outputs": [],
   "source": [
    "plt.hist(np.sqrt(df[\"pt2_0m3\"] + df[\"m_12\"]))\n",
    "plt.show()"
   ]
  },
  {
   "cell_type": "code",
   "execution_count": null,
   "metadata": {},
   "outputs": [],
   "source": [
    "plt.hist(df.calc(\"m_1m1\")/2)\n",
    "plt.show()"
   ]
  },
  {
   "cell_type": "code",
   "execution_count": null,
   "metadata": {},
   "outputs": [],
   "source": [
    "df.calc(\"m_0m0\")"
   ]
  },
  {
   "cell_type": "code",
   "execution_count": null,
   "metadata": {},
   "outputs": [],
   "source": [
    "plt.hist(df.calc(\"m2_12\"))\n",
    "plt.show()"
   ]
  },
  {
   "cell_type": "code",
   "execution_count": null,
   "metadata": {},
   "outputs": [],
   "source": [
    "df.get_p_from_list(8,[0,-3])"
   ]
  },
  {
   "cell_type": "code",
   "execution_count": null,
   "metadata": {},
   "outputs": [],
   "source": [
    "df.nTrk[8]"
   ]
  },
  {
   "cell_type": "code",
   "execution_count": null,
   "metadata": {},
   "outputs": [],
   "source": [
    "df.apply(TLorentzVector.mag2, 0, [0,-3])"
   ]
  },
  {
   "cell_type": "code",
   "execution_count": null,
   "metadata": {},
   "outputs": [],
   "source": [
    "df.calc(\"m2_03\", nEv=10, verbose=True)"
   ]
  },
  {
   "cell_type": "code",
   "execution_count": null,
   "metadata": {},
   "outputs": [],
   "source": [
    "plt.hist(np.sqrt(df.calc(\"m2_0m3\", nEv=10)))\n",
    "plt.show()"
   ]
  },
  {
   "cell_type": "code",
   "execution_count": null,
   "metadata": {},
   "outputs": [],
   "source": [
    "var = \"m2_1m2\"\n",
    "[name, numbers] = var.split(\"_\")\n",
    "numbers = [int(n) for n in re.sub('([0-9])',r'\\1 ',numbers.replace('m','-')).split(' ')[:-1]]"
   ]
  },
  {
   "cell_type": "code",
   "execution_count": null,
   "metadata": {},
   "outputs": [],
   "source": [
    "[int(n) for n in re.sub('([0-9])',r'\\1 ',numbers.replace('m','-')).split(' ')[:-1]]"
   ]
  },
  {
   "cell_type": "code",
   "execution_count": null,
   "metadata": {},
   "outputs": [],
   "source": [
    "numbers.replace('m','-')"
   ]
  },
  {
   "cell_type": "code",
   "execution_count": null,
   "metadata": {},
   "outputs": [],
   "source": [
    "[int(n) for n in numbers]"
   ]
  },
  {
   "cell_type": "code",
   "execution_count": null,
   "metadata": {},
   "outputs": [],
   "source": [
    "fig, axes = plt.subplots(ncols=2, nrows = 1, figsize = (15,7))\n",
    "mm_list = [ [df.m2(iEv, [2,3]), df.m(iEv, [0,-1])] for iEv in range(df.size() )]\n",
    "mm_list = np.array(mm_list)\n",
    "mm_list = np.array([mm for mm in mm_list if sum(mm**2)> 1e-5])\n",
    "axes[0].hist(mm_list[:,0], bins =30)\n",
    "axes[1].hist(mm_list[:,1]**2, bins = 30)\n",
    "plt.suptitle('M2')\n",
    "plt.tight_layout()\n",
    "plt.show()"
   ]
  },
  {
   "cell_type": "code",
   "execution_count": null,
   "metadata": {},
   "outputs": [],
   "source": [
    "fig, axes = plt.subplots(ncols=2, nrows = 1, figsize = (15,7))\n",
    "mm_list = [ [df.pt2(iEv, [2,3]), df.pt(iEv, [0,-1])] for iEv in range(df.size() )]\n",
    "mm_list = np.array(mm_list)\n",
    "mm_list = np.array([mm for mm in mm_list if sum(mm**2)> 1e-5])\n",
    "axes[0].hist(mm_list[:,0], bins =30)\n",
    "axes[1].hist(mm_list[:,1]**2, bins = 30)\n",
    "plt.suptitle('PT2')\n",
    "plt.tight_layout()\n",
    "plt.show()"
   ]
  }
 ],
 "metadata": {
  "kernelspec": {
   "display_name": "Python 3",
   "language": "python",
   "name": "python3"
  },
  "language_info": {
   "codemirror_mode": {
    "name": "ipython",
    "version": 3
   },
   "file_extension": ".py",
   "mimetype": "text/x-python",
   "name": "python",
   "nbconvert_exporter": "python",
   "pygments_lexer": "ipython3",
   "version": "3.8.5"
  }
 },
 "nbformat": 4,
 "nbformat_minor": 4
}
