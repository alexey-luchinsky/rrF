{
 "cells": [
  {
   "cell_type": "code",
   "execution_count": null,
   "metadata": {},
   "outputs": [],
   "source": [
    "import uproot as up\n",
    "import matplotlib.pyplot as plt\n",
    "import numpy as np"
   ]
  },
  {
   "cell_type": "code",
   "execution_count": null,
   "metadata": {},
   "outputs": [],
   "source": [
    "from uproot3_methods.classes.TLorentzVector import TLorentzVector"
   ]
  },
  {
   "cell_type": "code",
   "execution_count": null,
   "metadata": {},
   "outputs": [],
   "source": [
    "file = up.open(\"../build/evtOutput.root\")"
   ]
  },
  {
   "cell_type": "code",
   "execution_count": null,
   "metadata": {},
   "outputs": [],
   "source": [
    "class rootDF:\n",
    "    def __init__(self, file_name):\n",
    "        file = up.open(file_name)\n",
    "        ntp = file[\"ntp\"]\n",
    "        self.Px = ntp[\"px\"].array()\n",
    "        self.Py = ntp[\"py\"].array()\n",
    "        self.Pz = ntp[\"pz\"].array()\n",
    "        self.E = ntp[\"E\"].array()\n",
    "        self.nTrk = ntp[\"nTrk\"].array()\n",
    "        file.close()\n",
    "    def sign(self, x):\n",
    "        return -1 if x<0 else 1\n",
    "    def get_p_from_list(self, iEv, part_list):\n",
    "        p = TLorentzVector(0, 0, 0, 0)\n",
    "        for i in part_list:\n",
    "            if( abs(max(part_list)) >= self.nTrk[iEv]):\n",
    "                continue\n",
    "            abs_i = abs(i)\n",
    "            p += self.sign(i)*TLorentzVector(\n",
    "                self.Px[iEv][abs_i], self.Py[iEv][abs_i], self.Pz[iEv][abs_i], self.E[iEv][abs_i]\n",
    "            )\n",
    "        return p\n",
    "    def size(self):\n",
    "        return len(self.Px)\n",
    "    def apply(self, func, iEv, part_list):\n",
    "        p = self.get_p_from_list(iEv, part_list)\n",
    "        return p.func        \n",
    "    def m2(self, iEv, part_list):\n",
    "        p = self.get_p_from_list(iEv, part_list)\n",
    "        return p.mag2\n",
    "    def m(self, iEv, part_list):\n",
    "        try:\n",
    "            p = self.get_p_from_list(iEv, part_list)\n",
    "            return p.mag\n",
    "        except ValueError:\n",
    "            return 0"
   ]
  },
  {
   "cell_type": "code",
   "execution_count": null,
   "metadata": {},
   "outputs": [],
   "source": [
    "df = rootDF('../build/evtOutput.root')"
   ]
  },
  {
   "cell_type": "code",
   "execution_count": null,
   "metadata": {},
   "outputs": [],
   "source": [
    "df.m(9,[0,-1])"
   ]
  },
  {
   "cell_type": "code",
   "execution_count": null,
   "metadata": {},
   "outputs": [],
   "source": [
    "part_list = [2, 3]\n",
    "m2_list = [df.m2(iEv, part_list) for iEv in range( df.size() )]\n",
    "m2_list = np.array([m2 for m2 in m2_list if m2])"
   ]
  },
  {
   "cell_type": "code",
   "execution_count": null,
   "metadata": {},
   "outputs": [],
   "source": [
    "part_list = [0, -1]\n",
    "m_list = [df.m(iEv, part_list) for iEv in range(df.size() )]\n",
    "m_list = np.array([m for m in m_list if m])"
   ]
  },
  {
   "cell_type": "code",
   "execution_count": null,
   "metadata": {},
   "outputs": [],
   "source": [
    "[m2 for m2 in m2_list if m2<0]"
   ]
  },
  {
   "cell_type": "code",
   "execution_count": null,
   "metadata": {},
   "outputs": [],
   "source": [
    "df.get_p_from_list(0, [2,3])"
   ]
  },
  {
   "cell_type": "code",
   "execution_count": null,
   "metadata": {},
   "outputs": [],
   "source": [
    "df.get_p_from_list(0, [0,-1])"
   ]
  },
  {
   "cell_type": "code",
   "execution_count": null,
   "metadata": {},
   "outputs": [],
   "source": [
    "plt.hist(m2_list, bins=30);"
   ]
  },
  {
   "cell_type": "code",
   "execution_count": null,
   "metadata": {},
   "outputs": [],
   "source": [
    "plt.hist(m_list, bins=30);"
   ]
  },
  {
   "cell_type": "code",
   "execution_count": null,
   "metadata": {},
   "outputs": [],
   "source": [
    "plt.hist(np.sqrt(m2_list), bins = 30);"
   ]
  },
  {
   "cell_type": "code",
   "execution_count": null,
   "metadata": {},
   "outputs": [],
   "source": []
  }
 ],
 "metadata": {
  "kernelspec": {
   "display_name": "Python 3",
   "language": "python",
   "name": "python3"
  },
  "language_info": {
   "codemirror_mode": {
    "name": "ipython",
    "version": 3
   },
   "file_extension": ".py",
   "mimetype": "text/x-python",
   "name": "python",
   "nbconvert_exporter": "python",
   "pygments_lexer": "ipython3",
   "version": "3.8.5"
  }
 },
 "nbformat": 4,
 "nbformat_minor": 4
}
