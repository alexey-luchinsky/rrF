{
 "cells": [
  {
   "cell_type": "code",
   "execution_count": null,
   "metadata": {},
   "outputs": [],
   "source": [
    "import uproot as up\n",
    "import matplotlib.pyplot as plt\n",
    "import numpy as np"
   ]
  },
  {
   "cell_type": "code",
   "execution_count": null,
   "metadata": {},
   "outputs": [],
   "source": [
    "import vector"
   ]
  },
  {
   "cell_type": "code",
   "execution_count": null,
   "metadata": {},
   "outputs": [],
   "source": [
    "import uproot3_methods.classes.TLorentzVector as TLor"
   ]
  },
  {
   "cell_type": "code",
   "execution_count": null,
   "metadata": {},
   "outputs": [],
   "source": [
    "from uproot3_methods.classes.TLorentzVector import TLorentzVector"
   ]
  },
  {
   "cell_type": "code",
   "execution_count": null,
   "metadata": {},
   "outputs": [],
   "source": [
    "p = TLorentzVector(1, 2, 3, 4)"
   ]
  },
  {
   "cell_type": "code",
   "execution_count": null,
   "metadata": {},
   "outputs": [],
   "source": [
    "p.mag2"
   ]
  },
  {
   "cell_type": "code",
   "execution_count": null,
   "metadata": {},
   "outputs": [],
   "source": [
    "file = up.open(\"../build/evtOutput.root\")"
   ]
  },
  {
   "cell_type": "code",
   "execution_count": null,
   "metadata": {},
   "outputs": [],
   "source": [
    "class rootDF:\n",
    "    def __init__(self, file_name):\n",
    "        file = up.open(file_name)\n",
    "        ntp = file[\"ntp\"]\n",
    "        self.Px = ntp[\"px\"].array()\n",
    "        self.Py = ntp[\"py\"].array()\n",
    "        self.Pz = ntp[\"pz\"].array()\n",
    "        self.E = ntp[\"E\"].array()\n",
    "        self.nTrk = ntp[\"nTrk\"].array()\n",
    "        file.close()\n",
    "    def get_p_from_list(self, iEv, part_list):\n",
    "        p = TLorentzVector(0, 0, 0, 0)\n",
    "        for i in part_list:\n",
    "            if( max(part_list) >= self.nTrk[iEv]):\n",
    "                continue\n",
    "            p += TLorentzVector(self.Px[iEv][i], self.Py[iEv][i], self.Pz[iEv][i], self.E[iEv][i])\n",
    "        return p\n",
    "    def size(self):\n",
    "        return len(self.Px)\n",
    "    def m2(self, iEv, part_list):\n",
    "        p = self.get_p_from_list(iEv, part_list)\n",
    "        return p.mag2"
   ]
  },
  {
   "cell_type": "code",
   "execution_count": null,
   "metadata": {},
   "outputs": [],
   "source": [
    "df = rootDF('../build/evtOutput.root')"
   ]
  },
  {
   "cell_type": "code",
   "execution_count": null,
   "metadata": {},
   "outputs": [],
   "source": [
    "df.get_p_from_list(0,[1, 2, 3])"
   ]
  },
  {
   "cell_type": "code",
   "execution_count": null,
   "metadata": {},
   "outputs": [],
   "source": [
    "part_list = [1, 2]\n",
    "m2_list = [df.m2(iEv, part_list) for iEv in range( df.size() )]\n",
    "m2_list = [m2 for m2 in m2_list if m2]"
   ]
  },
  {
   "cell_type": "code",
   "execution_count": null,
   "metadata": {},
   "outputs": [],
   "source": [
    "plt.hist(m2_list, bins=30);"
   ]
  },
  {
   "cell_type": "code",
   "execution_count": null,
   "metadata": {},
   "outputs": [],
   "source": []
  }
 ],
 "metadata": {
  "kernelspec": {
   "display_name": "Python 3",
   "language": "python",
   "name": "python3"
  },
  "language_info": {
   "codemirror_mode": {
    "name": "ipython",
    "version": 3
   },
   "file_extension": ".py",
   "mimetype": "text/x-python",
   "name": "python",
   "nbconvert_exporter": "python",
   "pygments_lexer": "ipython3",
   "version": "3.8.5"
  }
 },
 "nbformat": 4,
 "nbformat_minor": 4
}
