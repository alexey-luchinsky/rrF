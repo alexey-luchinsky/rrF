{
 "cells": [
  {
   "cell_type": "code",
   "execution_count": null,
   "metadata": {},
   "outputs": [],
   "source": [
    "import uproot as up\n",
    "import matplotlib.pyplot as plt\n",
    "import numpy as np\n",
    "import awkward as ak\n",
    "import re\n",
    "\n",
    "from uproot3_methods.classes.TLorentzVector import TLorentzVector\n",
    "mag2 = TLorentzVector.mag2"
   ]
  },
  {
   "cell_type": "code",
   "execution_count": null,
   "metadata": {},
   "outputs": [],
   "source": []
  },
  {
   "cell_type": "code",
   "execution_count": null,
   "metadata": {},
   "outputs": [],
   "source": [
    "file = up.open(\"../build/evtOutput.root\")"
   ]
  },
  {
   "cell_type": "code",
   "execution_count": null,
   "metadata": {},
   "outputs": [],
   "source": [
    "class rootDF:\n",
    "    def __init__(self, file_name):\n",
    "        file = up.open(file_name)\n",
    "        ntp = file[\"ntp\"]\n",
    "        self.Px = ntp[\"px\"].array()\n",
    "        self.Py = ntp[\"py\"].array()\n",
    "        self.Pz = ntp[\"pz\"].array()\n",
    "        self.E = ntp[\"E\"].array()\n",
    "        self.nTrk = ntp[\"nTrk\"].array()\n",
    "        file.close()\n",
    "        self.filter = np.array([True]*len(self.Px))\n",
    "    def sign(self, x):\n",
    "        return -1 if x<0 else 1\n",
    "    def get_p_from_list(self, iEv, part_list):\n",
    "        p = TLorentzVector(0, 0, 0, 0)\n",
    "        for i in part_list:\n",
    "            if( max(np.abs(part_list)) >= self.nTrk[iEv]):\n",
    "                continue\n",
    "            abs_i = abs(i)\n",
    "            p += self.sign(i)*TLorentzVector(\n",
    "                self.Px[iEv][abs_i], self.Py[iEv][abs_i], self.Pz[iEv][abs_i], self.E[iEv][abs_i]\n",
    "            )\n",
    "        return p\n",
    "    def size(self):\n",
    "        return len(self.Px)\n",
    "    def apply(self, func, iEv, part_list):\n",
    "        p = self.get_p_from_list(iEv, part_list)\n",
    "        try:\n",
    "            return func.fget(p)\n",
    "        except ValueError:\n",
    "            return 0\n",
    "    def m2(self, iEv, part_list):\n",
    "        return self.apply(TLorentzVector.mag2, iEv, part_list)\n",
    "    def m(self, iEv, part_list):\n",
    "        return self.apply(TLorentzVector.mag, iEv, part_list)\n",
    "    def pt2(self, iEv, part_list):\n",
    "        return self.apply(TLorentzVector.pt2, iEv, part_list)\n",
    "    def pt(self, iEv, part_list):\n",
    "        return self.apply(TLorentzVector.pt, iEv, part_list)\n",
    "    def parse_var(self, var):\n",
    "        [name, numbers] = var.split(\"_\")\n",
    "        func = {'m2':TLorentzVector.mag2,\n",
    "                'm': TLorentzVector.mag,\n",
    "                'pt2': TLorentzVector.pt2,\n",
    "                 'pt': TLorentzVector.pt}[name]\n",
    "        part_list = [int(n) for n in re.sub('([0-9])',r'\\1 ',numbers.replace('m','-')).split(' ')[:-1]]\n",
    "        return func, part_list\n",
    "    \n",
    "    def calc_var(self, iEv, var):\n",
    "        func, part_list = self.parse_var(var)\n",
    "        return self.apply(func, iEv, part_list)\n",
    "    def __getitem__(self, key):\n",
    "        if type(key)==str:\n",
    "            func, part_list = self.parse_var(key)\n",
    "            return np.array([self.apply(func, iEv, part_list) for iEv in range(self.size()) if self.filter[iEv]])\n",
    "        if type(key) == list:\n",
    "            return [self[k] for k in key]\n",
    "    def cut(self, condition):\n",
    "        if (condition == True):\n",
    "            self.filter = [True]*self.size()\n",
    "        elif type(condition) == str:\n",
    "            condition = re.sub('([<>])',r' \\1 ', condition)\n",
    "            var, operation, lhs = [s for s in condition.split(' ') if len(s)>0]\n",
    "            lhs = float(lhs)\n",
    "            if(operation == '>'):\n",
    "                self.filter = [self.filter[iEv] & (self.calc_var(iEv, var) > lhs) for iEv in range( self.size())]\n",
    "            elif(operation == '<'):\n",
    "                self.filter = [self.filter[iEv] & (self.calc_var(iEv, var) < lhs) for iEv in range( self.size())]\n",
    "        elif type(condition) == list:\n",
    "            for cond in condition:\n",
    "                self.cut(cond)\n",
    "        return np.count_nonzero(self.filter)"
   ]
  },
  {
   "cell_type": "code",
   "execution_count": null,
   "metadata": {},
   "outputs": [],
   "source": [
    "df = rootDF('../build/evtOutput.root')"
   ]
  },
  {
   "cell_type": "code",
   "execution_count": null,
   "metadata": {},
   "outputs": [],
   "source": [
    "df.cut(['m_12>1', 'm_13 < 0.5'])"
   ]
  },
  {
   "cell_type": "code",
   "execution_count": null,
   "metadata": {},
   "outputs": [],
   "source": [
    "plt.hist( df[\"m_12\"], bins = 100);"
   ]
  }
 ],
 "metadata": {
  "kernelspec": {
   "display_name": "Python 3",
   "language": "python",
   "name": "python3"
  },
  "language_info": {
   "codemirror_mode": {
    "name": "ipython",
    "version": 3
   },
   "file_extension": ".py",
   "mimetype": "text/x-python",
   "name": "python",
   "nbconvert_exporter": "python",
   "pygments_lexer": "ipython3",
   "version": "3.8.5"
  }
 },
 "nbformat": 4,
 "nbformat_minor": 4
}
